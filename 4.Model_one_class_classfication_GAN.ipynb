{
 "cells": [
  {
   "cell_type": "markdown",
   "metadata": {},
   "source": [
    "# GAN\n",
    "\n",
    "The real samples has three types of features: \n",
    "- non sequential features which has a shape of (14, )\n",
    "- sequential features which has a shape of (60,17)\n",
    "- image features(MTF along the features) which has a shape of (31,31,1). \n",
    "\n",
    "There are three corresponding input layers in the discriminators which were then followed by Dense layers, LSTM layers or CNN layers and merged together. After that there are several dense layers for classification. \n",
    "\n",
    "\n",
    "Correspondingly, we have three generators to generate fake samples from noise. \n"
   ]
  },
  {
   "cell_type": "markdown",
   "metadata": {},
   "source": [
    "## Import data"
   ]
  },
  {
   "cell_type": "code",
   "execution_count": 1,
   "metadata": {},
   "outputs": [
    {
     "name": "stderr",
     "output_type": "stream",
     "text": [
      "Using TensorFlow backend.\n"
     ]
    }
   ],
   "source": [
    "import pandas as pd\n",
    "import numpy as np\n",
    "import json\n",
    "from tqdm import tqdm\n",
    "import matplotlib.pyplot as plt\n",
    "import keras\n",
    "from keras import layers\n",
    "from keras_self_attention import SeqSelfAttention\n",
    "from tensorflow.keras.optimizers import Adam,RMSprop,SGD\n",
    "from keras.layers import Input, Embedding, multiply, BatchNormalization\n",
    "from keras.models import Model, Sequential\n",
    "from keras.layers.core import Reshape, Dense, Dropout, Flatten\n",
    "from keras.layers.advanced_activations import LeakyReLU\n",
    "from keras.layers import Dense, Dropout, Flatten,concatenate,LSTM,Input,Bidirectional\n",
    "from keras.layers import Conv2D, MaxPooling2D,AveragePooling2D,Input, Dense, Reshape, Flatten, Embedding, Dropout,Conv2DTranspose\n",
    "from keras import backend as K\n",
    "from keras import initializers\n",
    "from keras.utils import to_categorical\n",
    "from keras import backend as K\n",
    "from keras import regularizers\n",
    "from keras import metrics\n",
    "\n",
    "\n",
    "with open('/home/yz3698/label.json') as f:\n",
    "    labels=json.load(f)\n",
    "with open('/home/yz3698/non_sequential_features.json') as f:\n",
    "    non_sequential_features=json.load(f)\n",
    "with open('/home/yz3698/padded_sequential_features_3.json') as f:\n",
    "    sequential_features=json.load(f)\n",
    "with open('featurematrix.json') as f:\n",
    "    arr_=json.load(f)\n",
    "arr_=np.array(arr_)\n",
    "\n",
    "# from dict to numpy array\n",
    "feature1=np.array([sequential_features[key] for key in sequential_features.keys()])\n",
    "feature2=np.array([non_sequential_features[key] for key in non_sequential_features.keys()])\n",
    "label=np.array([labels[key] for key in labels.keys()])\n",
    "\n",
    "#reshape features\n",
    "arr_=arr_.reshape(-1,31,31,1)\n",
    "feature1=feature1[:,:,1:]\n"
   ]
  },
  {
   "cell_type": "markdown",
   "metadata": {},
   "source": [
    "## Preprocessing\n",
    "- We separate data into training set, validation set, and testing set.\n",
    "- We will only use benign samples to train the model"
   ]
  },
  {
   "cell_type": "code",
   "execution_count": 2,
   "metadata": {},
   "outputs": [],
   "source": [
    "#training set include only benign users\n",
    "arr_benign=arr_[label==0]\n",
    "arr_fraud=arr_[label==1]\n",
    "\n",
    "feature1_benign=feature1[label==0]\n",
    "feature1_fraud=feature1[label==1]\n",
    "\n",
    "feature2_benign=feature2[label==0]\n",
    "feature2_fraud=feature2[label==1]\n",
    "\n",
    "label_benign=label[label==0]  \n",
    "label_fraud=label[label==1]  \n",
    "\n",
    "from sklearn.model_selection import train_test_split\n",
    "\n",
    "X_train_arr, X_test_arr,X_train_f1, X_test_f1,X_train_f2, X_test_f2,y_train,y_test= train_test_split(arr_benign,\n",
    "                                                                                                     feature1_benign,\n",
    "                                                                                                     feature2_benign,\n",
    "                                                                                                     label_benign,\n",
    "                                                                                          test_size=0.40, random_state=42)\n",
    "# testing set includes both benign and fraud \n",
    "X_test_arr=np.concatenate([X_test_arr, arr_fraud])\n",
    "X_test_f1=np.concatenate([X_test_f1, feature1_fraud])\n",
    "X_test_f2=np.concatenate([X_test_f2, feature2_fraud])\n",
    "y_test=np.concatenate([y_test, label_fraud])\n",
    "\n",
    "\n",
    "#shuffle testing set\n",
    "randomize = np.arange(len(X_test_arr))\n",
    "np.random.shuffle(randomize)\n",
    "X_test_arr = X_test_arr[randomize]\n",
    "X_test_f1 = X_test_f1[randomize]\n",
    "X_test_f2 = X_test_f2[randomize]\n",
    "y_test = y_test[randomize]"
   ]
  },
  {
   "cell_type": "code",
   "execution_count": 3,
   "metadata": {},
   "outputs": [
    {
     "data": {
      "text/plain": [
       "((83878, 31, 31, 1), (83878, 60, 17), (83878, 14), (83878,))"
      ]
     },
     "execution_count": 3,
     "metadata": {},
     "output_type": "execute_result"
    }
   ],
   "source": [
    "X_train_arr.shape,X_train_f1.shape,X_train_f2.shape,y_train.shape"
   ]
  },
  {
   "cell_type": "code",
   "execution_count": 3,
   "metadata": {},
   "outputs": [],
   "source": [
    "# validation set for model selection, testing set for reporting \n",
    "X_valid_arr,X_test_arr,X_valid_f1,X_test_f1,X_valid_f2,X_test_f2,y_valid,y_test=train_test_split(X_test_arr,\n",
    "                                                                                                 X_test_f1,\n",
    "                                                                                                 X_test_f2,\n",
    "                                                                                                 y_test,\n",
    "                                                                                                 test_size=0.50, random_state=42)"
   ]
  },
  {
   "cell_type": "code",
   "execution_count": 8,
   "metadata": {},
   "outputs": [
    {
     "data": {
      "text/plain": [
       "(33022, 31, 31, 1)"
      ]
     },
     "execution_count": 8,
     "metadata": {},
     "output_type": "execute_result"
    }
   ],
   "source": [
    "X_valid_arr.shape"
   ]
  },
  {
   "cell_type": "markdown",
   "metadata": {},
   "source": [
    "## build multi-source GANs"
   ]
  },
  {
   "cell_type": "code",
   "execution_count": 4,
   "metadata": {},
   "outputs": [],
   "source": [
    "class GAN():\n",
    "    def __init__(self):\n",
    "        self.feature_matrix_shape=(31,31,1)\n",
    "        self.mtf_shape=(60,60,1)\n",
    "        self.lstm_features_cnt=17\n",
    "        self.non_seq_shape=(14,)\n",
    "        optimizer_SGD= SGD()\n",
    "        optimizer_adam= Adam()\n",
    "\n",
    "        \n",
    "        # Build and compile the discriminator\n",
    "        self.discriminator = self.build_discriminator()\n",
    "        self.discriminator.compile(loss='binary_crossentropy',optimizer=optimizer_SGD, metrics=['accuracy'])\n",
    "        \n",
    "        # Build the generator\n",
    "        self.generator1 = self.build_generator1()\n",
    "        noise_non_sequential=Input(shape=(14,),name=\"dense_input\")\n",
    "        non_sequential_fake=self.generator1(noise_non_sequential)\n",
    "        \n",
    "        self.generator2 = self.build_generator2()\n",
    "        noise_fm=Input(shape=(32,32,1),name=\"cnn_input\")\n",
    "        fm_fake=self.generator2(noise_fm)\n",
    "        \n",
    "        self.generator3 = self.build_generator3()\n",
    "        noise_rnn=Input(shape=(60,17),name=\"rnn_input\")\n",
    "        rnn_fake=self.generator3(noise_rnn)\n",
    "\n",
    "        # combined generator and discriminator for generator training\n",
    "        self.discriminator.trainable = False  #discriminator is not trainable when training generator\n",
    "        validity = self.discriminator([non_sequential_fake,fm_fake,rnn_fake])\n",
    "        self.combined = Model([noise_non_sequential,noise_fm,noise_rnn], validity)\n",
    "        self.combined.compile(loss='binary_crossentropy', optimizer=optimizer_adam)\n",
    "        \n",
    "            \n",
    "\n",
    "    def build_discriminator(self):\n",
    "        ## input from feature matrix\n",
    "        input_fm=Input(shape=self.feature_matrix_shape,name=\"cnn_input\")\n",
    "        fm=BatchNormalization()(input_fm)\n",
    "        cnn1=Conv2D(64, (3, 3), padding=\"same\")(fm)\n",
    "        cnn1=LeakyReLU(alpha=0.2)(cnn1)\n",
    "        bn1=BatchNormalization()(cnn1)\n",
    "        bn1=Dropout(0.3)(bn1)\n",
    "        pool1=AveragePooling2D(pool_size=(2,2),strides=2)(bn1)\n",
    "        cnn2=Conv2D(32, (3, 3), padding=\"same\")(pool1)\n",
    "        cnn2=LeakyReLU(alpha=0.2)(cnn2)\n",
    "        bn2=BatchNormalization()(cnn2)\n",
    "        pool2=AveragePooling2D(pool_size=(2,2),strides=2)(bn2)\n",
    "        pool2=Dropout(0.3)(pool2)\n",
    "        cnn3=Conv2D(1, (3, 3), padding=\"same\")(pool2)\n",
    "        cnn3=LeakyReLU(alpha=0.2)(cnn3)\n",
    "        fm_output=Flatten()(cnn3)\n",
    "\n",
    "\n",
    "        #input from sequential features\n",
    "        input_rnn=Input(shape=(60,17),name=\"rnn_input\")\n",
    "        lstm1=Bidirectional(keras.layers.LSTM(64, activation='tanh', return_sequences=True))(input_rnn)\n",
    "        #lstm1=SeqSelfAttention(attention_activation='sigmoid')(lstm1)\n",
    "        lstm1=Dropout(0.3)(lstm1)\n",
    "        rnn_output=Bidirectional(keras.layers.LSTM(32, activation='tanh', return_sequences=False))(lstm1)\n",
    "        \n",
    "\n",
    "        #input from non-sequential features\n",
    "        input_non_sequential=Input(shape=self.non_seq_shape,name=\"dense_input\")\n",
    "        dense1=Dense(32)(input_non_sequential)\n",
    "        dense1=LeakyReLU(alpha=0.2)(dense1)\n",
    "        bn3=BatchNormalization()(dense1)\n",
    "        drop2=Dropout(0.3)(bn3)\n",
    "        dense2_output=Dense(32)(drop2)\n",
    "        dense2_output=LeakyReLU(alpha=0.2)(dense2_output)\n",
    "\n",
    "        \n",
    "        #combine three types of input\n",
    "        merged = concatenate([dense2_output,fm_output, rnn_output])\n",
    "        dense3=Dense(128)(merged)\n",
    "        dense3=LeakyReLU(alpha=0.2)(dense3)\n",
    "        bn4=BatchNormalization()(dense3)\n",
    "        bn4=Dropout(0.3)(bn4)\n",
    "        dense4=Dense(64)(bn4)\n",
    "        dense4=LeakyReLU(alpha=0.2)(dense4)\n",
    "        bn5=BatchNormalization()(dense4)\n",
    "        out = Dense(1, activation='sigmoid', name='output_layer')(bn5)\n",
    "\n",
    "        model = Model(inputs=[input_non_sequential,input_fm,input_rnn], outputs=[out])\n",
    "        #model.summary()\n",
    "        return model\n",
    "    \n",
    "    def build_generator1(self):\n",
    "        # generator to generate fake data like non-sequential features \n",
    "        model = Sequential()\n",
    "\n",
    "        model.add(Dense(32))\n",
    "        model.add(LeakyReLU(alpha=0.2))\n",
    "        model.add(BatchNormalization(momentum=0.8))\n",
    "        model.add(Dropout(0.25))\n",
    "        model.add(Dense(64))\n",
    "        model.add(LeakyReLU(alpha=0.2))\n",
    "        model.add(BatchNormalization(momentum=0.8))\n",
    "        model.add(Dense(14,activation='tanh'))\n",
    "\n",
    "        #model.summary()\n",
    "\n",
    "        noise = Input(shape=(14,))\n",
    "        img = model(noise)\n",
    "\n",
    "        return Model(noise, img)\n",
    "    \n",
    "    def build_generator2(self):\n",
    "         # generator to generate fake data like feature matrix\n",
    "        model = Sequential()\n",
    "\n",
    "        model.add(Conv2DTranspose(8,strides=(2, 2), kernel_size=(3,3)))\n",
    "        model.add(LeakyReLU(alpha=0.2))\n",
    "        model.add(keras.layers.BatchNormalization(momentum=0.8))\n",
    "        model.add(Dropout(0.25))\n",
    "        model.add(Conv2D(filters=4,kernel_size=4,strides=2,padding='valid'))\n",
    "        model.add(LeakyReLU(alpha=0.2))\n",
    "        model.add(keras.layers.BatchNormalization(momentum=0.8))\n",
    "        model.add(Conv2D(filters=1,kernel_size=4,strides=1,padding='same',activation='tanh'))\n",
    "        noise = Input(shape=(32,32,1))\n",
    "        img = model(noise)\n",
    "        #model.summary()\n",
    "        return Model(noise, img)\n",
    "    \n",
    "    def build_generator3(self):\n",
    "        # generator to generate fake data like sequential features\n",
    "        model = Sequential()\n",
    "        model.add(keras.layers.LSTM(32, activation=\"tanh\", return_sequences=True))\n",
    "        model.add(Dropout(0.25))\n",
    "        model.add(keras.layers.LSTM(64, activation=\"tanh\", return_sequences=True))\n",
    "        model.add(Dropout(0.25))\n",
    "        model.add(keras.layers.LSTM(128, activation=\"tanh\", return_sequences=True))\n",
    "        model.add(Dropout(0.25))\n",
    "        model.add(keras.layers.LSTM(17, activation=\"tanh\",return_sequences=True))\n",
    "        noise = Input(shape=(60,17))\n",
    "        img = model(noise)\n",
    "       # model.summary()\n",
    "        return Model(noise, img)\n",
    "    \n",
    "\n",
    "    def train(self,X_train_arr,X_train_f1,X_train_f2,y_train,X_test_arr,X_test_f1,X_test_f2,y_test,\n",
    "              epochs=200, batch_size=128):\n",
    "        auc_list=[]\n",
    "        ks_list=[]\n",
    "        auc_progress = []\n",
    "        half_batch = int(batch_size / 2)\n",
    "\n",
    "        noise_until = epochs\n",
    "\n",
    "\n",
    "        for epoch in range(epochs):\n",
    "            # Select a random half batch of real benign users data\n",
    "            idx = np.random.randint(0, y_train.shape[0], half_batch)\n",
    "            arr=X_train_arr[idx]\n",
    "            sequential=X_train_f1[idx]\n",
    "            non_sequential=X_train_f2[idx]\n",
    "\n",
    "           # Sample noise and generate a half batch of new fake data\n",
    "            noise1 = np.random.normal(0, 1, (half_batch, 14))\n",
    "            noise2 = np.random.normal(0, 1, (half_batch, 32,32,1))\n",
    "            noise3 = np.random.normal(0, 1, (half_batch, 60,17))\n",
    "                \n",
    "            non_sequential_fake=self.generator1.predict(noise1)\n",
    "            fm_fake=self.generator2.predict(noise2)\n",
    "            rnn_fake=self.generator3.predict(noise3)\n",
    "\n",
    "            valid = np.ones((half_batch, 1))\n",
    "            fake = np.zeros((half_batch, 1))\n",
    "\n",
    "            # Train the discriminator\n",
    "            \n",
    "            d_loss_real = self.discriminator.train_on_batch([non_sequential,arr,sequential], valid)\n",
    "            d_loss_fake = self.discriminator.train_on_batch([non_sequential_fake,fm_fake,rnn_fake], fake)\n",
    "\n",
    " \n",
    "            d_loss = 0.5 * np.add(d_loss_real, d_loss_fake)\n",
    "\n",
    "\n",
    "\n",
    "            #  Train Generator\n",
    "  \n",
    "            noise1 = np.random.normal(0, 1, (batch_size, 14))\n",
    "            noise2 = np.random.normal(0, 1, (batch_size, 32,32,1))\n",
    "            noise3 = np.random.normal(0, 1, (batch_size, 60,17))\n",
    "                \n",
    "            validity = np.ones((batch_size, 1))\n",
    "\n",
    "           # if epoch<=1000 or epoch%3==0:\n",
    "            g_loss = self.combined.train_on_batch([noise1,noise2,noise3], validity)\n",
    "           \n",
    "            #g_loss = self.combined.test_on_batch([noise1,noise2,noise3], validity)\n",
    "\n",
    "            # Plot the progress\n",
    "            if epoch % 5 == 0:\n",
    "                print (\"%d [D loss: %f, acc: %.2f%%] [G loss: %f]\" % (epoch, d_loss[0], 100*d_loss[1], g_loss))\n",
    "\n",
    "            if epoch % 50 == 0:\n",
    "                y_pred = self.discriminator.predict([X_test_f2,X_valid_arr,X_test_f1],batch_size=batch_size)\n",
    "                (fpr, tpr, thresholds) = roc_curve(y_test,y_pred)\n",
    "                area = auc(fpr,tpr)\n",
    "                auc_list.append(area)\n",
    "\n",
    "                ks=(tpr-fpr)\n",
    "                max_ks=np.max(ks)\n",
    "                ks_list.append(max_ks)\n",
    "                print('Epoch: {}, auc: {:.5f}, ks: {}'.format(epoch,area,max_ks))\n",
    "                self.discriminator.save(\"/home/yz3698/gans_model_saved/\"+str(epoch)+\"_model_gans.h5\")\n",
    "\n",
    "\n",
    "        return auc_list,ks_list\n"
   ]
  },
  {
   "cell_type": "code",
   "execution_count": 5,
   "metadata": {},
   "outputs": [],
   "source": [
    "from sklearn.metrics import accuracy_score, f1_score\n",
    "from sklearn.metrics import roc_curve, auc\n",
    "import matplotlib.pyplot as plt\n"
   ]
  },
  {
   "cell_type": "code",
   "execution_count": 6,
   "metadata": {
    "scrolled": true
   },
   "outputs": [
    {
     "name": "stderr",
     "output_type": "stream",
     "text": [
      "/home/yz3698/.local/lib/python3.7/site-packages/keras/engine/training.py:297: UserWarning: Discrepancy between trainable weights and collected trainable weights, did you set `model.trainable` without calling `model.compile` after ?\n",
      "  'Discrepancy between trainable weights and collected trainable'\n",
      "/home/yz3698/.local/lib/python3.7/site-packages/keras/engine/training.py:297: UserWarning: Discrepancy between trainable weights and collected trainable weights, did you set `model.trainable` without calling `model.compile` after ?\n",
      "  'Discrepancy between trainable weights and collected trainable'\n"
     ]
    },
    {
     "name": "stdout",
     "output_type": "stream",
     "text": [
      "0 [D loss: 0.909577, acc: 48.83%] [G loss: 0.912915]\n",
      "Epoch: 0, auc: 0.48100, ks: 7.141581860381496e-05\n"
     ]
    },
    {
     "name": "stderr",
     "output_type": "stream",
     "text": [
      "/home/yz3698/.local/lib/python3.7/site-packages/keras/engine/saving.py:165: UserWarning: TensorFlow optimizers do not make it possible to access optimizer attributes or optimizer state after instantiation. As a result, we cannot save the optimizer as part of the model save file.You will have to compile your model again after loading it. Prefer using a Keras optimizer instead (see keras.io/optimizers).\n",
      "  'TensorFlow optimizers do not '\n",
      "/home/yz3698/.local/lib/python3.7/site-packages/keras/engine/training.py:297: UserWarning: Discrepancy between trainable weights and collected trainable weights, did you set `model.trainable` without calling `model.compile` after ?\n",
      "  'Discrepancy between trainable weights and collected trainable'\n"
     ]
    },
   
    
   "source": [
    "if __name__ == '__main__':\n",
    "    gan = GAN()\n",
    "    auc_list,ks_list=gan.train(X_train_arr,X_train_f1,X_train_f2,y_train,X_valid_arr,X_valid_f1,X_valid_f2,y_valid,\n",
    "             epochs=10000, \n",
    "             batch_size=512)"
   ]
  },
  {
   "cell_type": "code",
   "execution_count": 14,
   "metadata": {},
   "outputs": [
    {
     "data": {
      "image/png": "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\n",
      "text/plain": [
       "<Figure size 432x288 with 1 Axes>"
      ]
     },
     "metadata": {
      "needs_background": "light"
     },
     "output_type": "display_data"
    }
   ],
   "source": [
    "plt.plot(ks_list)\n",
    "plt.title(\"KS\")\n",
    "plt.show()"
   ]
  },
  {
   "cell_type": "code",
   "execution_count": 15,
   "metadata": {},
   "outputs": [
    {
     "data": {
      "image/png": "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\n",
      "text/plain": [
       "<Figure size 432x288 with 1 Axes>"
      ]
     },
     "metadata": {
      "needs_background": "light"
     },
     "output_type": "display_data"
    }
   ],
   "source": [
    "plt.plot(auc_list)\n",
    "plt.title(\"AUC\")\n",
    "plt.show()"
   ]
  }
 ],
 "metadata": {
  "kernelspec": {
   "display_name": "Python 3",
   "language": "python",
   "name": "python3"
  },
  "language_info": {
   "codemirror_mode": {
    "name": "ipython",
    "version": 3
   },
   "file_extension": ".py",
   "mimetype": "text/x-python",
   "name": "python",
   "nbconvert_exporter": "python",
   "pygments_lexer": "ipython3",
   "version": "3.7.4"
  }
 },
 "nbformat": 4,
 "nbformat_minor": 2
}
